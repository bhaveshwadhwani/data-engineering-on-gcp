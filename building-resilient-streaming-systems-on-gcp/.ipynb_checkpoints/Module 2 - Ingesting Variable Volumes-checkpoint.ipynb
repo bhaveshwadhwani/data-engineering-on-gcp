{
 "cells": [
  {
   "cell_type": "markdown",
   "metadata": {},
   "source": [
    "# Module 2: Ingesting Variable Volumes\n",
    "1. What is Cloud Pub/Sub?\n",
    "2. How it works: Topics and Subscriptions\n",
    "3. Lab: Simulator"
   ]
  },
  {
   "cell_type": "markdown",
   "metadata": {},
   "source": [
    "## 1. What is Cloud Pub/Sub?\n",
    "![](img/2-01.png)\n",
    "![](img/2-02.png)\n",
    "![](img/2-03.png)\n",
    "![](img/2-04.png)\n",
    "![](img/2-05.png)\n",
    "![](img/2-06.png)\n",
    "![](img/2-07.png)\n",
    "![](img/2-08.png)\n",
    "![](img/2-09.png)\n",
    "![](img/2-10.png)\n",
    "![](img/2-11.png)\n",
    "![](img/2-12.png)"
   ]
  },
  {
   "cell_type": "markdown",
   "metadata": {},
   "source": [
    "## 2. How it works: Topics and Subscriptions\n",
    "![](img/2-13.png)\n",
    "![](img/2-14.png)\n",
    "![](img/2-15.png)\n",
    "![](img/2-16.png)"
   ]
  },
  {
   "cell_type": "markdown",
   "metadata": {},
   "source": [
    "## 3. Lab 1: Simulator\n",
    "__Overview__\n",
    "- Lab 1: Publish Streaming Data into Pub/Sub\n",
    "- Task 1: Preparation\n",
    "- Task 2: Create Pub/Sub topic and subscription\n",
    "- Task 3: Simulate traffic sensor data into Pub/Sub\n",
    "- Task 4: Verify that messages are received \n",
    "\n",
    "![](img/2-17.png)\n",
    "\n",
    "### Open a second SSH terminal and connect to the training VM\n",
    "1. In the Console, on the Navigation menu () <br>\n",
    "click Compute Engine > VM instances.\n",
    "2. Locate the line with the instance called training_vm.\n",
    "3. On the far right, under 'connect', Click on SSH to open a second terminal window.\n",
    "4. Change into the directory you were working in: <br>\n",
    "cd ~/training-data-analyst/courses/streaming/publish\n",
    "5. Create a subscription for the topic and do a pull to confirm that messages are coming in: <br>\n",
    "gcloud pubsub subscriptions create --topic sandiego mySub2 <br>\n",
    "gcloud pubsub subscriptions pull --auto-ack mySub2\n",
    "\n",
    "Confirm that you see a message with traffic sensor information.\n",
    "\n",
    "6. Cancel this subscription. <br>\n",
    "gcloud pubsub subscriptions delete mySub2\n",
    "7. Close the second terminal. <br>\n",
    "exit\n",
    "\n",
    "__Stop the sensor simulator__\n",
    "8. Return to the first terminal.\n",
    "9. Interrupt the publisher by typing Ctrl-C to stop it.\n",
    "10. Close the first terminal. <br>\n",
    "exit\n"
   ]
  },
  {
   "cell_type": "markdown",
   "metadata": {},
   "source": [
    "## 4. Quiz\n",
    "\n",
    "### Question 1\n",
    "Which of the following about Cloud Pub/Sub is NOT true?\n",
    "\n",
    "- ( ) Pub/Sub simplifies systems by removing the need for every component to speak to every component\n",
    "- ( ) Pub/Sub connects applications and services through a messaging infrastructure\n",
    "- ( ) __Pub/Sub stores your messages indefinitely until you request it__\n",
    "\n",
    "### Question 2\n",
    "True or False?\n",
    "\n",
    "Cloud Pub/Sub guarantees that messages delivered are in the order they were received\n",
    "\n",
    "- ( ) True\n",
    "- ( ) __False__\n",
    "\n",
    "### Question 3\n",
    "Which of the following about Cloud Pub/Sub topics and subscriptions are true?\n",
    "\n",
    "(Select all 2 correct responses)\n",
    "\n",
    "- [x] __1 or more publisher(s) can write to the same topic__\n",
    "- [x] __1 or more subscriber(s) can request from the same subscription__\n",
    "- [ ] Each topic will deliver ALL messages for a topic for each subscriber\n",
    "- [ ] Each topic MUST have at least 1 subscription\n",
    "\n",
    "### Question 4\n",
    "Which of the following delivery methods is ideal for subscribers needing close to real time performance?\n",
    "\n",
    "- ( ) Pull Delivery\n",
    "- (x) __Push Delivery__"
   ]
  }
 ],
 "metadata": {
  "kernelspec": {
   "display_name": "Python 2",
   "language": "python",
   "name": "python2"
  },
  "language_info": {
   "codemirror_mode": {
    "name": "ipython",
    "version": 2
   },
   "file_extension": ".py",
   "mimetype": "text/x-python",
   "name": "python",
   "nbconvert_exporter": "python",
   "pygments_lexer": "ipython2",
   "version": "2.7.14"
  },
  "latex_envs": {
   "LaTeX_envs_menu_present": true,
   "autoclose": false,
   "autocomplete": true,
   "bibliofile": "biblio.bib",
   "cite_by": "apalike",
   "current_citInitial": 1,
   "eqLabelWithNumbers": true,
   "eqNumInitial": 1,
   "hotkeys": {
    "equation": "Ctrl-E",
    "itemize": "Ctrl-I"
   },
   "labels_anchors": false,
   "latex_user_defs": false,
   "report_style_numbering": false,
   "user_envs_cfg": false
  }
 },
 "nbformat": 4,
 "nbformat_minor": 2
}
