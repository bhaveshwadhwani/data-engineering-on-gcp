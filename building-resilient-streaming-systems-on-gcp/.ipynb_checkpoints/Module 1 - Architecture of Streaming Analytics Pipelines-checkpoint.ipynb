{
 "cells": [
  {
   "cell_type": "markdown",
   "metadata": {
    "solution": "hidden",
    "solution_first": true
   },
   "source": [
    "# Module 1: Architecture of Streaming Analytics Pipelines\n",
    "1. What is streaming?\n",
    "2. Stream data processing: Challenges\n",
    "3. Handling variable data volumes\n",
    "4. Dealing with unordered/late data\n",
    "5. Lab: Designing streaming pipeline"
   ]
  },
  {
   "cell_type": "markdown",
   "metadata": {},
   "source": [
    "## 1. What is streaming?\n",
    "![](img/1-01.png)\n",
    "![](img/1-02.png)\n",
    "![](img/1-03.png)\n",
    "![](img/1-04.png)"
   ]
  },
  {
   "cell_type": "markdown",
   "metadata": {},
   "source": [
    "## 2. Stream data processing: Challenges\n",
    "![](img/1-05.png)"
   ]
  },
  {
   "cell_type": "markdown",
   "metadata": {},
   "source": [
    "## 3. Handling variable data volumes\n",
    "![](img/1-06.png)\n",
    "![](img/1-07.png)\n",
    "![](img/1-08.png)"
   ]
  },
  {
   "cell_type": "markdown",
   "metadata": {},
   "source": [
    "## 4. Dealing with unordered/late data\n",
    "![](img/1-09.png)\n",
    "![](img/1-10.png)\n",
    "![](img/1-11.png)"
   ]
  },
  {
   "cell_type": "markdown",
   "metadata": {},
   "source": [
    "## 4. Dealing with unordered/late data\n",
    "5. Lab: Designing streaming pipeline\n",
    "![](img/1-12.png)\n",
    "![](img/1-13.png)\n",
    "![](img/1-14.png)\n",
    "![](img/1-15.png)\n",
    "![](img/1-16.png)\n",
    "![](img/1-17.png)"
   ]
  },
  {
   "cell_type": "markdown",
   "metadata": {},
   "source": [
    "## 5. Lab: Designing streaming pipeline\n",
    "![](img/1-18.png)"
   ]
  },
  {
   "cell_type": "markdown",
   "metadata": {},
   "source": [
    "## Quiz\n",
    "\n",
    "### Question 1\n",
    "Dataflow offers the following that makes it easy to create resilient streaming pipelines when working with unbounded data:\n",
    "(Select all 2 correct responses)\n",
    "\n",
    "- [x] __Ability to flexibly reason about time__\n",
    "- [ ] Controls to ensure correctness\n",
    "- [x] __Global message bus to buffer messages__\n",
    "- [ ] SQL support to query in-process results\n",
    "\n",
    "### Question 2\n",
    "Match the GCP product with its role when designing streaming systems\n",
    "\n",
    "Product\tRole\n",
    "1. Pub/Sub\tA. Controls to handle late-arriving and out-of-order data\n",
    "2. Dataflow\tB. Global message queue\n",
    "3. BigQuery\tC. Latency in the order of milliseconds when querying against overwhelming volume\n",
    "4. Bigtable\tD. Query data as it arrives from streaming pipelines\n",
    "\n",
    "\n",
    "1.  \n",
    "1-A\n",
    "2-B\n",
    "3-D\n",
    "4-C\n",
    "2. __\n",
    "1-B\n",
    "2-A\n",
    "3-D\n",
    "4-C__\n",
    "3. \n",
    "1-C\n",
    "2-A\n",
    "3-D\n",
    "4-B\n",
    "4. \n",
    "1-D\n",
    "2-A\n",
    "3-B\n",
    "4-C"
   ]
  },
  {
   "cell_type": "code",
   "execution_count": null,
   "metadata": {},
   "outputs": [],
   "source": []
  }
 ],
 "metadata": {
  "kernelspec": {
   "display_name": "Python 2",
   "language": "python",
   "name": "python2"
  },
  "language_info": {
   "codemirror_mode": {
    "name": "ipython",
    "version": 2
   },
   "file_extension": ".py",
   "mimetype": "text/x-python",
   "name": "python",
   "nbconvert_exporter": "python",
   "pygments_lexer": "ipython2",
   "version": "2.7.14"
  },
  "latex_envs": {
   "LaTeX_envs_menu_present": true,
   "autoclose": false,
   "autocomplete": true,
   "bibliofile": "biblio.bib",
   "cite_by": "apalike",
   "current_citInitial": 1,
   "eqLabelWithNumbers": true,
   "eqNumInitial": 1,
   "hotkeys": {
    "equation": "Ctrl-E",
    "itemize": "Ctrl-I"
   },
   "labels_anchors": false,
   "latex_user_defs": false,
   "report_style_numbering": false,
   "user_envs_cfg": false
  }
 },
 "nbformat": 4,
 "nbformat_minor": 2
}
